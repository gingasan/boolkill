{
 "cells": [
  {
   "cell_type": "code",
   "execution_count": 1,
   "metadata": {},
   "outputs": [],
   "source": [
    "import random\n",
    "\n",
    "def _generate(label, a, b):\n",
    "    num_states = random.choice(range(a, b + 1))\n",
    "    states = []\n",
    "    for i in range(num_states):\n",
    "        tf = \"false\" if random.random() < 0.5 else \"true\"\n",
    "        state = \"S{}: S{} is a {} statement.\".format(i + 1, i, tf)\n",
    "        states += [state]\n",
    "        label = 1 - label if tf == \"false\" else label\n",
    "\n",
    "    return states, label"
   ]
  },
  {
   "cell_type": "code",
   "execution_count": 12,
   "metadata": {},
   "outputs": [],
   "source": [
    "a, b = 0, 4\n",
    "random.seed(1892)\n",
    "train = []\n",
    "with open(\"raw/train_raw.tsv\", \"r\") as f:\n",
    "    for i, line in enumerate(f):\n",
    "        if i == 0:\n",
    "            continue\n",
    "        sent, label = line.strip().split(\"\\t\")\n",
    "        sent = \"S0: \" + sent\n",
    "        states, label = _generate(eval(label), a, b)\n",
    "        sent = \" [n] \".join([sent] + states)\n",
    "        question = \"Is S{} true or false?\".format(len(states))\n",
    "        train += [[sent, question, label]]\n",
    "test = []\n",
    "with open(\"raw/test_raw.tsv\", \"r\") as f:\n",
    "    for i, line in enumerate(f):\n",
    "        if i == 0:\n",
    "            continue\n",
    "        sent, label = line.strip().split(\"\\t\")\n",
    "        sent = \"S0: \" + sent\n",
    "        states, label = _generate(eval(label), a, b)\n",
    "        sent = \" [n] \".join([sent] + states)\n",
    "        question = \"Is S{} true or false?\".format(len(states))\n",
    "        test += [[sent, question, label]]"
   ]
  },
  {
   "cell_type": "code",
   "execution_count": 13,
   "metadata": {},
   "outputs": [],
   "source": [
    "with open(\"u/train_u{}{}.tsv\".format(a, b), \"w\") as f:\n",
    "    f.write(\"\\t\".join([\"sentence\", \"question\", \"label\"]) + \"\\n\")\n",
    "    for line in train:\n",
    "        f.write(\"\\t\".join([line[0], line[1], str(line[2])]) + \"\\n\")\n",
    "with open(\"u/test_u{}{}.tsv\".format(a, b), \"w\") as f:\n",
    "    f.write(\"\\t\".join([\"sentence\", \"question\", \"label\"]) + \"\\n\")\n",
    "    for line in test:\n",
    "        f.write(\"\\t\".join([line[0], line[1], str(line[2])]) + \"\\n\")"
   ]
  },
  {
   "cell_type": "code",
   "execution_count": null,
   "metadata": {},
   "outputs": [],
   "source": []
  },
  {
   "cell_type": "code",
   "execution_count": 14,
   "metadata": {},
   "outputs": [],
   "source": [
    "import random\n",
    "\n",
    "def _generate_plus(label, a, b):\n",
    "    num_states = random.choice(range(a, b + 1))\n",
    "    _label = label\n",
    "    states = []\n",
    "    labels = []\n",
    "    j = 0\n",
    "    if num_states > 1:\n",
    "        j = random.choice(range(1, num_states))\n",
    "    for i in range(num_states):\n",
    "        tf = \"false\" if random.random() < 0.5 else \"true\"\n",
    "        state = \"S{}: S{} is a {} statement.\".format(i + 1, i, tf)\n",
    "        if j > 0 and i == j:\n",
    "            t = random.choice(range(0, i))\n",
    "            label_t = labels[t - 1] if t > 0 else _label\n",
    "            if random.random() < 0.5:\n",
    "                op = \"or\"\n",
    "                state = \"S{}: Either S{} or S{} is a {} statement.\".format(i + 1, i, t, tf)\n",
    "                if tf == \"false\":\n",
    "                    if label == 1 or label_t == 1:\n",
    "                        label = 0\n",
    "                    else:\n",
    "                        label = 1\n",
    "                else:\n",
    "                    if label == 0 or label_t == 0:\n",
    "                        label = 0\n",
    "                    else:\n",
    "                        label = 1\n",
    "            else:\n",
    "                op = \"and\"\n",
    "                state = \"S{}: Both S{} and S{} are {} statements.\".format(i + 1, i, t, tf)\n",
    "                if tf == \"false\":\n",
    "                    if label == 1 and label_t == 1:\n",
    "                        label = 0\n",
    "                    else:\n",
    "                        label = 1\n",
    "                else:\n",
    "                    if label == 0 and label_t == 0:\n",
    "                        label = 0\n",
    "                    else:\n",
    "                        label = 1\n",
    "        else:\n",
    "            label = 1 - label if tf == \"false\" else label\n",
    "        states += [state]\n",
    "        labels += [label]\n",
    "\n",
    "    return states, labels"
   ]
  },
  {
   "cell_type": "code",
   "execution_count": 17,
   "metadata": {},
   "outputs": [],
   "source": [
    "a, b = 0, 4\n",
    "random.seed(1892)\n",
    "train = []\n",
    "with open(\"raw/train_raw.tsv\", \"r\") as f:\n",
    "    for i, line in enumerate(f):\n",
    "        if i == 0:\n",
    "            continue\n",
    "        sent, label = line.strip().split(\"\\t\")\n",
    "        sent = \"S0: \" + sent\n",
    "        states, labels = _generate_plus(eval(label), a, b)\n",
    "        label = labels[-1] if labels else eval(label)\n",
    "        sent = \" [n] \".join([sent] + states)\n",
    "        question = \"Is S{} true or false?\".format(len(states))\n",
    "        train += [[sent, question, label]]\n",
    "test = []\n",
    "with open(\"raw/test_raw.tsv\", \"r\") as f:\n",
    "    for i, line in enumerate(f):\n",
    "        if i == 0:\n",
    "            continue\n",
    "        sent, label = line.strip().split(\"\\t\")\n",
    "        sent = \"S0: \" + sent\n",
    "        states, labels = _generate_plus(eval(label), a, b)\n",
    "        label = labels[-1] if labels else eval(label)\n",
    "        sent = \" [n] \".join([sent] + states)\n",
    "        question = \"Is S{} true or false?\".format(len(states))\n",
    "        test += [[sent, question, label]]"
   ]
  },
  {
   "cell_type": "code",
   "execution_count": 18,
   "metadata": {},
   "outputs": [],
   "source": [
    "with open(\"u/train_a{}{}.tsv\".format(a, b), \"w\") as f:\n",
    "    f.write(\"\\t\".join([\"sentence\", \"question\", \"label\"]) + \"\\n\")\n",
    "    for line in train:\n",
    "        f.write(\"\\t\".join([line[0], line[1], str(line[2])]) + \"\\n\")\n",
    "with open(\"u/test_a{}{}.tsv\".format(a, b), \"w\") as f:\n",
    "    f.write(\"\\t\".join([\"sentence\", \"question\", \"label\"]) + \"\\n\")\n",
    "    for line in test:\n",
    "        f.write(\"\\t\".join([line[0], line[1], str(line[2])]) + \"\\n\")"
   ]
  },
  {
   "cell_type": "code",
   "execution_count": null,
   "metadata": {},
   "outputs": [],
   "source": []
  }
 ],
 "metadata": {
  "interpreter": {
   "hash": "a83378e9010597a62285233c38113512fcb06c2408593c999f880320590100a6"
  },
  "kernelspec": {
   "display_name": "Python 3.7.16 64-bit ('torch': conda)",
   "language": "python",
   "name": "python3"
  },
  "language_info": {
   "codemirror_mode": {
    "name": "ipython",
    "version": 3
   },
   "file_extension": ".py",
   "mimetype": "text/x-python",
   "name": "python",
   "nbconvert_exporter": "python",
   "pygments_lexer": "ipython3",
   "version": "3.10.12"
  },
  "orig_nbformat": 4
 },
 "nbformat": 4,
 "nbformat_minor": 2
}
